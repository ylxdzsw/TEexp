{
 "cells": [
  {
   "cell_type": "code",
   "execution_count": 4,
   "metadata": {},
   "outputs": [],
   "source": [
    "using OhMyJulia\n",
    "using DataFrames\n",
    "using PyCall\n",
    "@pyimport gurobipy\n",
    "data_list = [\"abilene\", \"Cernet\", \"Cesnet201006\", \"Chinanet\", \"Esnet\", \"Garr200112\", \"Grnet\", \"Ibm\", \"jelly16\", \"Nordu1997\", \"Tinet\"]\n",
    "memory_budget = 128"
   ]
  },
  {
   "cell_type": "code",
   "execution_count": 9,
   "metadata": {},
   "outputs": [],
   "source": [
    "ENV[\"PATH\"] *= \":/usr/local/gurobi/bin/:/home/zhangshiwei/.opam/4.06.0/bin\"\n",
    "for data in data_list\n",
    "    run(`yates -budget 8 $data`)\n",
    "end"
   ]
  },
  {
   "cell_type": "code",
   "execution_count": null,
   "metadata": {},
   "outputs": [],
   "source": []
  }
 ],
 "metadata": {
  "kernelspec": {
   "display_name": "Julia 0.6.2",
   "language": "julia",
   "name": "julia-0.6"
  },
  "language_info": {
   "file_extension": ".jl",
   "mimetype": "application/julia",
   "name": "julia",
   "version": "0.6.2"
  }
 },
 "nbformat": 4,
 "nbformat_minor": 2
}
