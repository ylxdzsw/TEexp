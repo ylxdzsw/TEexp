{
 "cells": [
  {
   "cell_type": "code",
   "execution_count": 50,
   "metadata": {},
   "outputs": [
    {
     "data": {
      "text/plain": [
       "11-element Array{String,1}:\n",
       " \"abilene\"     \n",
       " \"Cernet\"      \n",
       " \"Cesnet201006\"\n",
       " \"Chinanet\"    \n",
       " \"Esnet\"       \n",
       " \"Garr200112\"  \n",
       " \"Grnet\"       \n",
       " \"Ibm\"         \n",
       " \"jelly16\"     \n",
       " \"Nordu1997\"   \n",
       " \"Tinet\"       "
      ]
     },
     "execution_count": 50,
     "metadata": {},
     "output_type": "execute_result"
    }
   ],
   "source": [
    "using OhMyJulia\n",
    "using DataFrames\n",
    "using PyCall\n",
    "@pyimport gurobipy as grb\n",
    "\n",
    "include(\"path.jl\")\n",
    "include(\"weight.jl\")\n",
    "ENV[\"PATH\"] *= \":/usr/local/gurobi/bin/:/home/zhangshiwei/.opam/4.06.0/bin\"\n",
    "\n",
    "data_list = [\"abilene\", \"Cernet\", \"Cesnet201006\", \"Chinanet\", \"Esnet\", \"Garr200112\", \"Grnet\", \"Ibm\", \"jelly16\", \"Nordu1997\", \"Tinet\"]\n",
    "algo_list = [\"Ecmp\", \"Edskp\", \"Ksp\", \"Mcf\", \"Raeck\", \"Vlb\"]"
   ]
  },
  {
   "cell_type": "code",
   "execution_count": 35,
   "metadata": {},
   "outputs": [
    {
     "data": {
      "text/plain": [
       "read_demand (generic function with 2 methods)"
      ]
     },
     "execution_count": 35,
     "metadata": {},
     "output_type": "execute_result"
    }
   ],
   "source": [
    "function read_topo(file)\n",
    "    nodes, edges = Set{String}(), String[]\n",
    "    for line in eachline(file) @when (m = match(r\"(s\\d+) -> (s\\d+)\", line)) != nothing\n",
    "        push!(nodes, m[1], m[2])\n",
    "        push!(edges, \"$(m[1]) $(m[2])\")\n",
    "    end\n",
    "    nodes, edges\n",
    "end\n",
    "\n",
    "function read_demand(hosts, demands)\n",
    "    results = []\n",
    "    hosts = readlines(hosts)\n",
    "    n = length(hosts)\n",
    "    for line in eachline(demands)\n",
    "        line = map(x->parse(f64, x), split(line, ' '))\n",
    "        demand = Dict{String, Float64}()\n",
    "        for i in 1:n, j in 1:n @when i != j\n",
    "            demand[\"$(hosts[i]) $(hosts[j])\"] = line[(i-1) * n + j] / 2^20 # to Megabyte\n",
    "        end\n",
    "        push!(results, demand)\n",
    "    end\n",
    "    results\n",
    "end"
   ]
  },
  {
   "cell_type": "code",
   "execution_count": 56,
   "metadata": {},
   "outputs": [],
   "source": [
    "function gen_gravity(data)\n",
    "    hosts = readlines(\"data/$data.hosts\")\n",
    "    open(\"data/$data.demands\", \"w\") do fout\n",
    "        for l in 1:5\n",
    "            α = 2^(20 + 2i)\n",
    "            weigths = map(x->rand(), hosts)\n",
    "            list = [ α * weigths[i] * weigths[j]\n",
    "                     for i in 1:length(hosts)\n",
    "                     for j in 1:length(hosts) ]\n",
    "            println(fout, join(list, ' '))\n",
    "        end\n",
    "    end\n",
    "end\n",
    "for i in data_list\n",
    "    gen_gravity(i)\n",
    "end"
   ]
  },
  {
   "cell_type": "code",
   "execution_count": 65,
   "metadata": {},
   "outputs": [],
   "source": [
    "for data in data_list\n",
    "    nodes, edges = read_topo(\"data/$data.dot\")\n",
    "    hosts = readlines(\"data/$data.hosts\")\n",
    "    open(\"data/$data.budgets\", \"w\") do fout\n",
    "        for i in 1:length(hosts)\n",
    "            println(fout, 15 * length(nodes))\n",
    "        end\n",
    "    end\n",
    "end\n"
   ]
  },
  {
   "cell_type": "code",
   "execution_count": 26,
   "metadata": {},
   "outputs": [
    {
     "data": {
      "text/plain": [
       "Dict{String,Dict{String,Array{Tuple{Array{String,1},Float64},1}}} with 6 entries:\n",
       "  \"Ecmp\"  => Dict(\"h1 h14\"=>Tuple{Array{String,1},Float64}[(String[\"h1 s1\", \"s1…\n",
       "  \"Vlb\"   => Dict(\"h1 h14\"=>Tuple{Array{String,1},Float64}[(String[\"h1 s1\", \"s1…\n",
       "  \"Mcf\"   => Dict(\"h1 h14\"=>Tuple{Array{String,1},Float64}[(String[\"h1 s1\", \"s1…\n",
       "  \"Ksp\"   => Dict(\"h1 h14\"=>Tuple{Array{String,1},Float64}[(String[\"h1 s1\", \"s1…\n",
       "  \"Edksp\" => Dict(\"h1 h14\"=>Tuple{Array{String,1},Float64}[(String[\"h1 s1\", \"s1…\n",
       "  \"Raeke\" => Dict(\"h1 h14\"=>Tuple{Array{String,1},Float64}[(String[\"h1 s1\", \"s1…"
      ]
     },
     "execution_count": 26,
     "metadata": {},
     "output_type": "execute_result"
    }
   ],
   "source": [
    "data = \"Ibm\"\n",
    "\n",
    "io, process = open(`yates -budget 16 $data`)\n",
    "schemes = parse_schemes(io)"
   ]
  },
  {
   "cell_type": "code",
   "execution_count": null,
   "metadata": {},
   "outputs": [],
   "source": [
    "for data in data_list\n",
    "    io, process = open(`yates -budget 16 $data`)\n",
    "    origin_schemes = parse_schemes(io)\n",
    "    nodes, edges = read_topo(\"data/$data.dot\")\n",
    "    demands = read_demand(\"data/$data.hosts\", \"data/$data.demands\")\n",
    "    \n",
    "    for algo in algo_list\n",
    "        x = select_program(nodes, edges, schemes[\"Vlb\"], 20length(nodes))\n",
    "    end\n",
    "end"
   ]
  },
  {
   "cell_type": "code",
   "execution_count": 58,
   "metadata": {},
   "outputs": [
    {
     "data": {
      "text/plain": [
       "Dict{String,Array{Tuple{Array{String,1},Float64},1}} with 306 entries:\n",
       "  \"h1 h14\"  => Tuple{Array{String,1},Float64}[(String[\"h1 s1\", \"s1 s17\", \"s17 s…\n",
       "  \"h14 h13\" => Tuple{Array{String,1},Float64}[(String[\"h14 s14\", \"s14 s13\", \"s1…\n",
       "  \"h3 h5\"   => Tuple{Array{String,1},Float64}[(String[\"h3 s3\", \"s3 s2\", \"s2 s4\"…\n",
       "  \"h9 h12\"  => Tuple{Array{String,1},Float64}[(String[\"h9 s9\", \"s9 s17\", \"s17 s…\n",
       "  \"h12 h17\" => Tuple{Array{String,1},Float64}[(String[\"h12 s12\", \"s12 s11\", \"s1…\n",
       "  \"h0 h17\"  => Tuple{Array{String,1},Float64}[(String[\"h0 s0\", \"s0 s3\", \"s3 s2\"…\n",
       "  \"h7 h17\"  => Tuple{Array{String,1},Float64}[(String[\"h7 s7\", \"s7 s0\", \"s0 s3\"…\n",
       "  \"h2 h13\"  => Tuple{Array{String,1},Float64}[(String[\"h2 s2\", \"s2 s9\", \"s9 s17…\n",
       "  \"h8 h10\"  => Tuple{Array{String,1},Float64}[(String[\"h8 s8\", \"s8 s12\", \"s12 s…\n",
       "  \"h7 h4\"   => Tuple{Array{String,1},Float64}[(String[\"h7 s7\", \"s7 s0\", \"s0 s3\"…\n",
       "  \"h8 h5\"   => Tuple{Array{String,1},Float64}[(String[\"h8 s8\", \"s8 s4\", \"s4 s5\"…\n",
       "  \"h5 h9\"   => Tuple{Array{String,1},Float64}[(String[\"h5 s5\", \"s5 s1\", \"s1 s17…\n",
       "  \"h12 h13\" => Tuple{Array{String,1},Float64}[(String[\"h12 s12\", \"s12 s13\", \"s1…\n",
       "  \"h12 h0\"  => Tuple{Array{String,1},Float64}[(String[\"h12 s12\", \"s12 s8\", \"s8 …\n",
       "  \"h16 h2\"  => Tuple{Array{String,1},Float64}[(String[\"h16 s16\", \"s16 s15\", \"s1…\n",
       "  \"h16 h5\"  => Tuple{Array{String,1},Float64}[(String[\"h16 s16\", \"s16 s15\", \"s1…\n",
       "  \"h0 h10\"  => Tuple{Array{String,1},Float64}[(String[\"h0 s0\", \"s0 s3\", \"s3 s2\"…\n",
       "  \"h15 h8\"  => Tuple{Array{String,1},Float64}[(String[\"h15 s15\", \"s15 s5\", \"s5 …\n",
       "  \"h16 h4\"  => Tuple{Array{String,1},Float64}[(String[\"h16 s16\", \"s16 s15\", \"s1…\n",
       "  \"h9 h0\"   => Tuple{Array{String,1},Float64}[(String[\"h9 s9\", \"s9 s2\", \"s2 s3\"…\n",
       "  \"h5 h11\"  => Tuple{Array{String,1},Float64}[(String[\"h5 s5\", \"s5 s1\", \"s1 s17…\n",
       "  \"h11 h16\" => Tuple{Array{String,1},Float64}[(String[\"h11 s11\", \"s11 s17\", \"s1…\n",
       "  \"h5 h15\"  => Tuple{Array{String,1},Float64}[(String[\"h5 s5\", \"s5 s15\", \"s15 h…\n",
       "  \"h5 h2\"   => Tuple{Array{String,1},Float64}[(String[\"h5 s5\", \"s5 s4\", \"s4 s2\"…\n",
       "  \"h1 h7\"   => Tuple{Array{String,1},Float64}[(String[\"h1 s1\", \"s1 s6\", \"s6 s7\"…\n",
       "  ⋮         => ⋮"
      ]
     },
     "execution_count": 58,
     "metadata": {},
     "output_type": "execute_result"
    }
   ],
   "source": [
    "x = select_program(nodes, edges, schemes[\"Vlb\"], 20length(nodes))"
   ]
  },
  {
   "cell_type": "code",
   "execution_count": 7,
   "metadata": {},
   "outputs": [
    {
     "data": {
      "text/plain": [
       "1"
      ]
     },
     "execution_count": 7,
     "metadata": {},
     "output_type": "execute_result"
    }
   ],
   "source": [
    "x = select_hard_nop(nodes, edges, schemes[\"Vlb\"], 20length(nodes))"
   ]
  },
  {
   "cell_type": "code",
   "execution_count": 59,
   "metadata": {},
   "outputs": [
    {
     "data": {
      "text/plain": [
       "(Dict(\"h1 h14\"=>Tuple{Array{String,1},Float64}[(String[\"h1 s1\", \"s1 s17\", \"s17 s14\", \"s14 h14\"], 0.0), (String[\"h1 s1\", \"s1 s5\", \"s5 s15\", \"s15 s14\", \"s14 h14\"], 1.0), (String[\"h1 s1\", \"s1 s6\", \"s6 s16\", \"s16 s15\", \"s15 s14\", \"s14 h14\"], 0.0), (String[\"h1 s1\", \"s1 s17\", \"s17 s11\", \"s11 s12\", \"s12 s13\", \"s13 s14\", \"s14 h14\"], 0.0)],\"h14 h13\"=>Tuple{Array{String,1},Float64}[(String[\"h14 s14\", \"s14 s13\", \"s13 h13\"], 1.0), (String[\"h14 s14\", \"s14 s17\", \"s17 s11\", \"s11 s12\", \"s12 s13\", \"s13 h13\"], 0.0), (String[\"h14 s14\", \"s14 s15\", \"s15 s5\", \"s5 s4\", \"s4 s8\", \"s8 s12\", \"s12 s13\", \"s13 h13\"], 0.0)],\"h3 h5\"=>Tuple{Array{String,1},Float64}[(String[\"h3 s3\", \"s3 s2\", \"s2 s4\", \"s4 s5\", \"s5 h5\"], 0.0), (String[\"h3 s3\", \"s3 s0\", \"s0 s7\", \"s7 s6\", \"s6 s1\", \"s1 s5\", \"s5 h5\"], 1.0), (String[\"h3 s3\", \"s3 s2\", \"s2 s9\", \"s9 s17\", \"s17 s1\", \"s1 s5\", \"s5 h5\"], 0.0), (String[\"h3 s3\", \"s3 s0\", \"s0 s7\", \"s7 s6\", \"s6 s16\", \"s16 s15\", \"s15 s5\", \"s5 h5\"], 0.0), (String[\"h3 s3\", \"s3 s2\", \"s2 s9\", \"s9 s17\", \"s17 s14\", \"s14 s15\", \"s15 s5\", \"s5 h5\"], 0.0)],\"h9 h12\"=>Tuple{Array{String,1},Float64}[(String[\"h9 s9\", \"s9 s17\", \"s17 s11\", \"s11 s12\", \"s12 h12\"], 1.0), (String[\"h9 s9\", \"s9 s17\", \"s17 s14\", \"s14 s13\", \"s13 s12\", \"s12 h12\"], 0.0), (String[\"h9 s9\", \"s9 s2\", \"s2 s4\", \"s4 s8\", \"s8 s12\", \"s12 h12\"], 0.0), (String[\"h9 s9\", \"s9 s2\", \"s2 s3\", \"s3 s0\", \"s0 s7\", \"s7 s6\", \"s6 s4\", \"s4 s8\", \"s8 s12\", \"s12 h12\"], 0.0)],\"h8 h10\"=>Tuple{Array{String,1},Float64}[(String[\"h8 s8\", \"s8 s12\", \"s12 s11\", \"s11 s10\", \"s10 h10\"], 1.0), (String[\"h8 s8\", \"s8 s12\", \"s12 s13\", \"s13 s14\", \"s14 s17\", \"s17 s11\", \"s11 s10\", \"s10 h10\"], 0.0)],\"h0 h17\"=>Tuple{Array{String,1},Float64}[(String[\"h0 s0\", \"s0 s3\", \"s3 s2\", \"s2 s9\", \"s9 s17\", \"s17 h17\"], 1.0)],\"h7 h17\"=>Tuple{Array{String,1},Float64}[(String[\"h7 s7\", \"s7 s0\", \"s0 s3\", \"s3 s2\", \"s2 s9\", \"s9 s17\", \"s17 h17\"], 1.0)],\"h2 h13\"=>Tuple{Array{String,1},Float64}[(String[\"h2 s2\", \"s2 s9\", \"s9 s17\", \"s17 s14\", \"s14 s13\", \"s13 h13\"], 1.0), (String[\"h2 s2\", \"s2 s4\", \"s4 s8\", \"s8 s12\", \"s12 s13\", \"s13 h13\"], 0.0), (String[\"h2 s2\", \"s2 s9\", \"s9 s17\", \"s17 s11\", \"s11 s12\", \"s12 s13\", \"s13 h13\"], 0.0), (String[\"h2 s2\", \"s2 s4\", \"s4 s5\", \"s5 s15\", \"s15 s14\", \"s14 s13\", \"s13 h13\"], 0.0), (String[\"h2 s2\", \"s2 s3\", \"s3 s0\", \"s0 s7\", \"s7 s6\", \"s6 s4\", \"s4 s8\", \"s8 s12\", \"s12 s13\", \"s13 h13\"], 0.0)],\"h12 h17\"=>Tuple{Array{String,1},Float64}[(String[\"h12 s12\", \"s12 s11\", \"s11 s17\", \"s17 h17\"], 1.0), (String[\"h12 s12\", \"s12 s13\", \"s13 s14\", \"s14 s17\", \"s17 h17\"], 0.0)],\"h7 h4\"=>Tuple{Array{String,1},Float64}[(String[\"h7 s7\", \"s7 s0\", \"s0 s3\", \"s3 s2\", \"s2 s4\", \"s4 h4\"], 1.0), (String[\"h7 s7\", \"s7 s6\", \"s6 s16\", \"s16 s15\", \"s15 s5\", \"s5 s4\", \"s4 h4\"], 0.0)]…), 4.071919155048587)"
      ]
     },
     "execution_count": 59,
     "metadata": {},
     "output_type": "execute_result"
    }
   ],
   "source": [
    "minimize_maximum_link_utilization(nodes, edges, demands[1], x)"
   ]
  },
  {
   "cell_type": "code",
   "execution_count": 60,
   "metadata": {},
   "outputs": [
    {
     "data": {
      "text/plain": [
       "(Dict{Any,Any}(Pair{Any,Any}(\"h1 h14\", Tuple{Array{String,1},Float64}[(String[\"h1 s1\", \"s1 s17\", \"s17 s14\", \"s14 h14\"], 0.0), (String[\"h1 s1\", \"s1 s5\", \"s5 s15\", \"s15 s14\", \"s14 h14\"], 1.0), (String[\"h1 s1\", \"s1 s6\", \"s6 s16\", \"s16 s15\", \"s15 s14\", \"s14 h14\"], 0.0), (String[\"h1 s1\", \"s1 s17\", \"s17 s11\", \"s11 s12\", \"s12 s13\", \"s13 s14\", \"s14 h14\"], 0.0)]),Pair{Any,Any}(\"h14 h13\", Tuple{Array{String,1},Float64}[(String[\"h14 s14\", \"s14 s13\", \"s13 h13\"], 1.0), (String[\"h14 s14\", \"s14 s17\", \"s17 s11\", \"s11 s12\", \"s12 s13\", \"s13 h13\"], 0.0), (String[\"h14 s14\", \"s14 s15\", \"s15 s5\", \"s5 s4\", \"s4 s8\", \"s8 s12\", \"s12 s13\", \"s13 h13\"], 0.0)]),Pair{Any,Any}(\"h3 h5\", Tuple{Array{String,1},Float64}[(String[\"h3 s3\", \"s3 s2\", \"s2 s4\", \"s4 s5\", \"s5 h5\"], 0.0), (String[\"h3 s3\", \"s3 s0\", \"s0 s7\", \"s7 s6\", \"s6 s1\", \"s1 s5\", \"s5 h5\"], 1.0), (String[\"h3 s3\", \"s3 s2\", \"s2 s9\", \"s9 s17\", \"s17 s1\", \"s1 s5\", \"s5 h5\"], 0.0), (String[\"h3 s3\", \"s3 s0\", \"s0 s7\", \"s7 s6\", \"s6 s16\", \"s16 s15\", \"s15 s5\", \"s5 h5\"], 0.0), (String[\"h3 s3\", \"s3 s2\", \"s2 s9\", \"s9 s17\", \"s17 s14\", \"s14 s15\", \"s15 s5\", \"s5 h5\"], 0.0)]),Pair{Any,Any}(\"h9 h12\", Tuple{Array{String,1},Float64}[(String[\"h9 s9\", \"s9 s17\", \"s17 s11\", \"s11 s12\", \"s12 h12\"], 1.0), (String[\"h9 s9\", \"s9 s17\", \"s17 s14\", \"s14 s13\", \"s13 s12\", \"s12 h12\"], 0.0), (String[\"h9 s9\", \"s9 s2\", \"s2 s4\", \"s4 s8\", \"s8 s12\", \"s12 h12\"], 0.0), (String[\"h9 s9\", \"s9 s2\", \"s2 s3\", \"s3 s0\", \"s0 s7\", \"s7 s6\", \"s6 s4\", \"s4 s8\", \"s8 s12\", \"s12 h12\"], 0.0)]),Pair{Any,Any}(\"h12 h17\", Tuple{Array{String,1},Float64}[(String[\"h12 s12\", \"s12 s11\", \"s11 s17\", \"s17 h17\"], 1.0), (String[\"h12 s12\", \"s12 s13\", \"s13 s14\", \"s14 s17\", \"s17 h17\"], 0.0)]),Pair{Any,Any}(\"h0 h17\", Tuple{Array{String,1},Float64}[(String[\"h0 s0\", \"s0 s3\", \"s3 s2\", \"s2 s9\", \"s9 s17\", \"s17 h17\"], 1.0)]),Pair{Any,Any}(\"h7 h17\", Tuple{Array{String,1},Float64}[(String[\"h7 s7\", \"s7 s0\", \"s0 s3\", \"s3 s2\", \"s2 s9\", \"s9 s17\", \"s17 h17\"], 1.0)]),Pair{Any,Any}(\"h2 h13\", Tuple{Array{String,1},Float64}[(String[\"h2 s2\", \"s2 s9\", \"s9 s17\", \"s17 s14\", \"s14 s13\", \"s13 h13\"], 0.999916), (String[\"h2 s2\", \"s2 s4\", \"s4 s8\", \"s8 s12\", \"s12 s13\", \"s13 h13\"], 8.36208e-5), (String[\"h2 s2\", \"s2 s9\", \"s9 s17\", \"s17 s11\", \"s11 s12\", \"s12 s13\", \"s13 h13\"], 0.0), (String[\"h2 s2\", \"s2 s4\", \"s4 s5\", \"s5 s15\", \"s15 s14\", \"s14 s13\", \"s13 h13\"], 0.0), (String[\"h2 s2\", \"s2 s3\", \"s3 s0\", \"s0 s7\", \"s7 s6\", \"s6 s4\", \"s4 s8\", \"s8 s12\", \"s12 s13\", \"s13 h13\"], 0.0)]),Pair{Any,Any}(\"h8 h10\", Tuple{Array{String,1},Float64}[(String[\"h8 s8\", \"s8 s12\", \"s12 s11\", \"s11 s10\", \"s10 h10\"], 1.0), (String[\"h8 s8\", \"s8 s12\", \"s12 s13\", \"s13 s14\", \"s14 s17\", \"s17 s11\", \"s11 s10\", \"s10 h10\"], 0.0)]),Pair{Any,Any}(\"h7 h4\", Tuple{Array{String,1},Float64}[(String[\"h7 s7\", \"s7 s0\", \"s0 s3\", \"s3 s2\", \"s2 s4\", \"s4 h4\"], 1.0), (String[\"h7 s7\", \"s7 s6\", \"s6 s16\", \"s16 s15\", \"s15 s5\", \"s5 s4\", \"s4 h4\"], 0.0)])…), 3919.4289463602167)"
      ]
     },
     "execution_count": 60,
     "metadata": {},
     "output_type": "execute_result"
    }
   ],
   "source": [
    "minimize_maximum_link_utilization_then_maximize_throuput(nodes, edges, demands[1], x) "
   ]
  },
  {
   "cell_type": "code",
   "execution_count": 63,
   "metadata": {},
   "outputs": [
    {
     "data": {
      "text/plain": [
       "Base.KeyIterator for a Dict{String,Dict{String,Array{Tuple{Array{String,1},Float64},1}}} with 6 entries. Keys:\n",
       "  \"Ecmp\"\n",
       "  \"Vlb\"\n",
       "  \"Mcf\"\n",
       "  \"Ksp\"\n",
       "  \"Edksp\"\n",
       "  \"Raeke\""
      ]
     },
     "execution_count": 63,
     "metadata": {},
     "output_type": "execute_result"
    }
   ],
   "source": [
    "keys(schemes)"
   ]
  },
  {
   "cell_type": "code",
   "execution_count": null,
   "metadata": {},
   "outputs": [],
   "source": []
  }
 ],
 "metadata": {
  "kernelspec": {
   "display_name": "Julia 0.6.2",
   "language": "julia",
   "name": "julia-0.6"
  },
  "language_info": {
   "file_extension": ".jl",
   "mimetype": "application/julia",
   "name": "julia",
   "version": "0.6.2"
  }
 },
 "nbformat": 4,
 "nbformat_minor": 2
}
