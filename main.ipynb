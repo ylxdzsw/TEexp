{
 "cells": [
  {
   "cell_type": "code",
   "execution_count": 5,
   "metadata": {},
   "outputs": [
    {
     "data": {
      "text/plain": [
       "6-element Array{String,1}:\n",
       " \"Ecmp\" \n",
       " \"Edksp\"\n",
       " \"Ksp\"  \n",
       " \"Mcf\"  \n",
       " \"Raeke\"\n",
       " \"Vlb\"  "
      ]
     },
     "execution_count": 5,
     "metadata": {},
     "output_type": "execute_result"
    }
   ],
   "source": [
    "using OhMyJulia\n",
    "using DataFrames\n",
    "using PyCall\n",
    "using NaturalSort\n",
    "@pyimport gurobipy as grb\n",
    "\n",
    "include(\"path.jl\")\n",
    "include(\"weight.jl\")\n",
    "ENV[\"PATH\"] *= \":/usr/local/gurobi/bin/:/home/zhangshiwei/.opam/4.06.0/bin\"\n",
    "\n",
    "#data_list = [\"abilene\", \"gscale\", \"Cernet\", \"Cesnet201006\", \"Chinanet\", \"Esnet\", \"Garr200112\", \"Grnet\", \"Ibm\", \"jelly16\", \"Nordu1997\", \"Sprint\", \"Tinet\"]\n",
    "data_list = [\"Cernet\" , \"Globalcenter\" , \"Goodnet\" , \"Gridnet\" , \"gscale\" , \"Janetbackbone\" ,\n",
    "\"Rediris\" , \"Renater2010\" , \"Sinet\" , \"Sprint\" , \"SprintINET\" , \"Surfnet\" ,\n",
    "\"SwitchL3\" , \"TataNld\" , \"Tinet\" , \"Uninett2011\" , \"Uunet\" , \"VtlWavenet2011\" , \"Xeex\" , \"Xspedius\"]\n",
    "algo_list = [\"Ecmp\", \"Edksp\", \"Ksp\", \"Mcf\", \"Raeke\", \"Vlb\"]"
   ]
  },
  {
   "cell_type": "markdown",
   "metadata": {},
   "source": [
    "## gen demand and budget"
   ]
  },
  {
   "cell_type": "code",
   "execution_count": 7,
   "metadata": {},
   "outputs": [],
   "source": [
    "function gen_gravity(data)\n",
    "    hosts = readlines(\"data/$data.hosts\")\n",
    "    open(\"data/$data.demands\", \"w\") do fout\n",
    "        for k in 1:6\n",
    "            #α = 2^(23 + k)\n",
    "            α = 2^(23 + k)\n",
    "            weigths = map(x->rand(), hosts)\n",
    "            list = [ α * weigths[i] * weigths[j]\n",
    "                     for i in 1:length(hosts)\n",
    "                     for j in 1:length(hosts) ]\n",
    "            println(fout, join(list, ' '))\n",
    "        end\n",
    "    end\n",
    "end\n",
    "for i in data_list\n",
    "    gen_gravity(i)\n",
    "end"
   ]
  },
  {
   "cell_type": "code",
   "execution_count": 9,
   "metadata": {},
   "outputs": [],
   "source": [
    "function gen_budgets(data)\n",
    "    hosts = readlines(\"data/$data.hosts\")\n",
    "    n = length(hosts)\n",
    "    open(\"data/$data.budgets\", \"w\") do fout\n",
    "        for h in hosts\n",
    "            println(fout, 2 * (n * n - n))\n",
    "        end\n",
    "    end\n",
    "end\n",
    "for i in data_list\n",
    "    gen_budgets(i)\n",
    "end"
   ]
  },
  {
   "cell_type": "code",
   "execution_count": 10,
   "metadata": {},
   "outputs": [
    {
     "data": {
      "text/plain": [
       "write_scheme (generic function with 1 method)"
      ]
     },
     "execution_count": 10,
     "metadata": {},
     "output_type": "execute_result"
    }
   ],
   "source": [
    "function read_topo(file)\n",
    "    nodes, edges = Set{String}(), String[]\n",
    "    for line in eachline(file) @when (m = match(r\"(s\\d+) -> (s\\d+)\", line)) != nothing\n",
    "        push!(nodes, m[1], m[2])\n",
    "        push!(edges, \"$(m[1]) $(m[2])\")\n",
    "    end\n",
    "    nodes, edges\n",
    "end\n",
    "\n",
    "function read_demand(hosts, demands)\n",
    "    results = []\n",
    "    hosts = readlines(hosts)\n",
    "    n = length(hosts)\n",
    "    for line in eachline(demands)\n",
    "        line = map(x->parse(f64, x), split(line, ' '))\n",
    "        demand = Dict{String, Float64}()\n",
    "        for i in 1:n, j in 1:n @when i != j\n",
    "            demand[\"$(hosts[i]) $(hosts[j])\"] = line[(i-1) * n + j] / 2^20 # to Megabyte\n",
    "        end\n",
    "        push!(results, demand)\n",
    "    end\n",
    "    results\n",
    "end\n",
    "\n",
    "function read_budget(hosts, budgets)\n",
    "    Dict(zip(map(x->replace(x, 'h', 's'), readlines(hosts)),\n",
    "             map(x->parse(Int, x),        readlines(budgets))))\n",
    "end\n",
    "\n",
    "function write_scheme(io, scheme)\n",
    "    for (pair, paths) in scheme\n",
    "        println(io, pair, ':')\n",
    "        for (path, w) in paths\n",
    "            p = map(x->split(x, ' '), path)\n",
    "            println(io, join(map(car, p) ++ cadr(p[end]), \" -> \"), \" @ \", w)\n",
    "        end\n",
    "        println(io)\n",
    "    end\n",
    "end"
   ]
  },
  {
   "cell_type": "code",
   "execution_count": 20,
   "metadata": {},
   "outputs": [
    {
     "ename": "LoadError",
     "evalue": "\u001b[91mMethodError: no method matching zero(::Type{Any})\u001b[0m\nClosest candidates are:\n  zero(::Type{Union{Missings.Missing, T}}) where T at /home/zhangshiwei/.julia/v0.6/Missings/src/Missings.jl:97\n  zero(\u001b[91m::Type{Base.LibGit2.GitHash}\u001b[39m) at libgit2/oid.jl:106\n  zero(\u001b[91m::Type{Base.Pkg.Resolve.VersionWeights.VWPreBuildItem}\u001b[39m) at pkg/resolve/versionweight.jl:82\n  ...\u001b[39m",
     "output_type": "error",
     "traceback": [
      "\u001b[91mMethodError: no method matching zero(::Type{Any})\u001b[0m\nClosest candidates are:\n  zero(::Type{Union{Missings.Missing, T}}) where T at /home/zhangshiwei/.julia/v0.6/Missings/src/Missings.jl:97\n  zero(\u001b[91m::Type{Base.LibGit2.GitHash}\u001b[39m) at libgit2/oid.jl:106\n  zero(\u001b[91m::Type{Base.Pkg.Resolve.VersionWeights.VWPreBuildItem}\u001b[39m) at pkg/resolve/versionweight.jl:82\n  ...\u001b[39m",
      "",
      "Stacktrace:",
      " [1] \u001b[1mzero\u001b[22m\u001b[22m at \u001b[1m/home/zhangshiwei/.julia/v0.6/Missings/src/Missings.jl:97\u001b[22m\u001b[22m [inlined]",
      " [2] \u001b[1mmr_empty\u001b[22m\u001b[22m at \u001b[1m./reduce.jl:243\u001b[22m\u001b[22m [inlined]",
      " [3] \u001b[1m_mapreduce\u001b[22m\u001b[22m\u001b[1m(\u001b[22m\u001b[22m::Base.#identity, ::Base.#+, ::IndexLinear, ::Array{Any,1}\u001b[1m)\u001b[22m\u001b[22m at \u001b[1m./reduce.jl:265\u001b[22m\u001b[22m",
      " [4] \u001b[1msum\u001b[22m\u001b[22m\u001b[1m(\u001b[22m\u001b[22m::Array{Any,1}\u001b[1m)\u001b[22m\u001b[22m at \u001b[1m./reduce.jl:359\u001b[22m\u001b[22m",
      " [5] \u001b[1m(::##354#360)\u001b[22m\u001b[22m\u001b[1m(\u001b[22m\u001b[22m::IOStream\u001b[1m)\u001b[22m\u001b[22m at \u001b[1m./In[20]:56\u001b[22m\u001b[22m",
      " [6] \u001b[1mopen\u001b[22m\u001b[22m\u001b[1m(\u001b[22m\u001b[22m::##354#360, ::String, ::String\u001b[1m)\u001b[22m\u001b[22m at \u001b[1m./iostream.jl:152\u001b[22m\u001b[22m",
      " [7] \u001b[1mmacro expansion\u001b[22m\u001b[22m at \u001b[1m./In[20]:12\u001b[22m\u001b[22m [inlined]",
      " [8] \u001b[1manonymous\u001b[22m\u001b[22m at \u001b[1m./<missing>:?\u001b[22m\u001b[22m"
     ]
    }
   ],
   "source": [
    "for data in (\"Cernet\",) #data_list\n",
    "    io, process = open(`yates -budget 16 $data`)\n",
    "    path_sets = parse_schemes(io)\n",
    "    nodes, edges = read_topo(\"data/$data.dot\")\n",
    "    demands = read_demand(\"data/$data.hosts\", \"data/$data.demands\")\n",
    "    budgets = read_budget(\"data/$data.hosts\", \"data/$data.budgets\")\n",
    "    \n",
    "    for (i, demand) in enumerate(demands), algo in algo_list\n",
    "        for (name, select) in ((\"program\", select_program),\n",
    "                               # (\"greedy\", select_greedy),\n",
    "                               (\"hardnop\", select_hard_nop))\n",
    "            open(\"results/$data-$i-$algo-$name.result\", \"w\") do fout\n",
    "                tic()\n",
    "                raw_scheme = select(nodes, edges, path_sets[algo], budgets)\n",
    "                time1 = toq()\n",
    "                tic()\n",
    "                m1_scheme, Z = minimize_maximum_link_utilization(nodes, edges, demand, raw_scheme)\n",
    "                time2 = toq()\n",
    "                tic()\n",
    "                m2_scheme, Zs = minimize_maximum_link_utilization_then_maximize_throuput(nodes, edges, demand, raw_scheme)\n",
    "                time3 = toq()\n",
    "                \n",
    "                println(fout, \"number of nodes (switch): \", length(nodes))\n",
    "                println(fout, \"number of edges (core): \", length(edges))\n",
    "                println(fout, \"number of demand pairs: \", length(demand))\n",
    "                println(fout, \"average budgets: \", mean(values(budgets)))\n",
    "                println(fout)\n",
    "                \n",
    "                println(fout, \"time elapsed during path selection: \", time, 's')\n",
    "                \n",
    "                println(fout, \"Z: \", Z)\n",
    "                println(fout, \"total throuput before the second step:\", sum(values(demand)) / max(Z, 1))\n",
    "                println(fout, \"total throuput after the second step:\", sum(d / Zs[pair] for (pair, d) in demand))\n",
    "                println(fout)\n",
    "                \n",
    "                println(fout, \"number of path through each node:\")\n",
    "                node_dict = Dict(n => 0 for n in nodes)\n",
    "                for (pair, paths) in m2_scheme, (path, weight) in paths, edge in path\n",
    "                    n = split(edge, ' ') |> car\n",
    "                    if car(n) == 's'\n",
    "                        node_dict[n] += 1\n",
    "                    end\n",
    "                end\n",
    "                for (node, number) in sort(collect(node_dict), lt=natural, by=car)\n",
    "                    println(fout, \"  \", node, \": \", number)\n",
    "                end\n",
    "                println(fout, \"  average: \", sum(values(node_dict)) / length(node_dict))\n",
    "                println(fout)\n",
    "                \n",
    "                println(fout, \"number of path, total flow, and link utiliaztion of each edge:\")\n",
    "                edge_dict = Dict(e => f64[] for e in edges)\n",
    "                for (pair, paths) in m2_scheme, (path, weight) in paths, edge in path @when 'h' ∉ edge\n",
    "                    push!(edge_dict[edge], demand[pair] * weight)\n",
    "                end\n",
    "                for (edge, flows) in sort(collect(edge_dict), lt=natural, by=car)\n",
    "                    println(fout, \"  \", edge, \": \", length(flows), \", \", sum(flows), \", \", sum(flows) / 100000, '%')\n",
    "                end\n",
    "                println(fout, \"  average: \", sum(length(v) for v in values(edge_dict)) / length(edge_dict), \n",
    "                                       \", \", sum(sum(v) for v in values(edge_dict)) / length(edge_dict),\n",
    "                                       \", \", sum(sum(v) for v in values(edge_dict)) / length(edge_dict) / 100000, '%')\n",
    "                println(fout)\n",
    "                \n",
    "                println(fout, \"number of path and demand ratio of each st pair:\")\n",
    "                pair_dict = Dict(pair => length(paths) for (pair, paths) in m2_scheme)\n",
    "                for (pair, nflows) in sort(collect(pair_dict), lt=natural, by=car)\n",
    "                    println(fout, \"  \", pair, \": \", nflows, \", \", 1 / Zs[pair])\n",
    "                end\n",
    "                println(fout, \"  average: \", sum(values(pair_dict)) / length(pair_dict),\n",
    "                                       \", \", sum(d / Zs[pair] for (pair, d) in demand) / sum(values(demand)))\n",
    "                println(fout)\n",
    "                \n",
    "                println(fout, \"path set:\")\n",
    "                write_scheme(fout, path_sets[algo])\n",
    "                println(fout)\n",
    "                \n",
    "                println(fout, \"paths selected:\")\n",
    "                write_scheme(fout, raw_scheme)\n",
    "                println(fout)\n",
    "                \n",
    "                println(fout, \"paths after the first step (minimize maximum link utilization):\")\n",
    "                write_scheme(fout, m1_scheme)\n",
    "                println(fout)\n",
    "                \n",
    "                println(fout, \"paths after the second step (maximize total throuput):\")\n",
    "                write_scheme(fout, m2_scheme)\n",
    "            end\n",
    "        end\n",
    "    end\n",
    "end"
   ]
  },
  {
   "cell_type": "code",
   "execution_count": 3,
   "metadata": {},
   "outputs": [
    {
     "data": {
      "text/plain": [
       "Dict{String,Int64} with 16 entries:\n",
       "  \"s8\"  => 240\n",
       "  \"s5\"  => 240\n",
       "  \"s7\"  => 240\n",
       "  \"s14\" => 240\n",
       "  \"s9\"  => 240\n",
       "  \"s10\" => 240\n",
       "  \"s6\"  => 240\n",
       "  \"s11\" => 240\n",
       "  \"s15\" => 240\n",
       "  \"s3\"  => 240\n",
       "  \"s1\"  => 240\n",
       "  \"s13\" => 240\n",
       "  \"s12\" => 240\n",
       "  \"s2\"  => 240\n",
       "  \"s4\"  => 240\n",
       "  \"s0\"  => 240"
      ]
     },
     "execution_count": 3,
     "metadata": {},
     "output_type": "execute_result"
    }
   ],
   "source": [
    "data = \"jelly16\"\n",
    "io, process = open(`yates -budget 16 $data`)\n",
    "    path_sets = parse_schemes(io)\n",
    "\n",
    "nodes, edges = read_topo(\"data/$data.dot\")\n",
    "    demands = read_demand(\"data/$data.hosts\", \"data/$data.demands\")\n",
    "    budgets = read_budget(\"data/$data.hosts\", \"data/$data.budgets\")\n"
   ]
  },
  {
   "cell_type": "code",
   "execution_count": null,
   "metadata": {},
   "outputs": [],
   "source": []
  }
 ],
 "metadata": {
  "kernelspec": {
   "display_name": "Julia 0.6.2",
   "language": "julia",
   "name": "julia-0.6"
  },
  "language_info": {
   "file_extension": ".jl",
   "mimetype": "application/julia",
   "name": "julia",
   "version": "0.6.2"
  }
 },
 "nbformat": 4,
 "nbformat_minor": 2
}
